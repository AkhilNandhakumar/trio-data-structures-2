{
  "cells": [
    {
      "attachments": {},
      "cell_type": "markdown",
      "id": "4d531496",
      "metadata": {},
      "source": [
        "---\n",
        "title: \"Week 25 Hacks\"\n",
        "author: \"Adi, Akhil, Tristan\"\n",
        "date: \"2023-03-12\"\n",
        "---"
      ]
    },
    {
      "cell_type": "code",
      "execution_count": 1,
      "id": "e85e0ccf",
      "metadata": {
        "vscode": {
          "languageId": "java"
        }
      },
      "outputs": [
        {
          "name": "stdout",
          "output_type": "stream",
          "text": [
            "np\n"
          ]
        }
      ],
      "source": [
        "System.out.println(\"np\");"
      ]
    }
  ],
  "metadata": {
    "kernelspec": {
      "display_name": "Java",
      "language": "java",
      "name": "java"
    },
    "language_info": {
      "codemirror_mode": "java",
      "file_extension": ".jshell",
      "mimetype": "text/x-java-source",
      "name": "Java",
      "pygments_lexer": "java",
      "version": "17.0.4.1+1-LTS-2"
    }
  },
  "nbformat": 4,
  "nbformat_minor": 5
}

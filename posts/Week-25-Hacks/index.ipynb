{
  "cells": [
    {
      "attachments": {},
      "cell_type": "markdown",
      "id": "4d531496",
      "metadata": {},
      "source": [
        "---\n",
        "title: \"Week 25 Hacks\"\n",
        "author: \"Adi, Akhil, Tristan\"\n",
        "date: \"2023-03-12\"\n",
        "---"
      ]
    },
    {
      "attachments": {},
      "cell_type": "markdown",
      "id": "e85e0ccf",
      "metadata": {
        "vscode": {
          "languageId": "java"
        }
      },
      "source": [
        "# Week 25 Hacks\n",
        "\n",
        "## Code Exercises\n",
        "\n",
        "### Primitive Types:\n",
        "\n",
        "- int\n",
        "- double\n",
        "- boolean\n",
        "- char"
      ]
    },
    {
      "attachments": {},
      "cell_type": "markdown",
      "id": "c566bf1e",
      "metadata": {},
      "source": [
        "## Converting Primitives to Wrapper Classes\n",
        "\n",
        "- int --> Integer\n",
        "- double --> Double\n",
        "- boolean --> Boolean\n",
        "- char --> Character\n",
        "\n",
        "- Introduce: String"
      ]
    },
    {
      "cell_type": "code",
      "execution_count": 2,
      "id": "0bb5281b",
      "metadata": {
        "vscode": {
          "languageId": "java"
        }
      },
      "outputs": [
        {
          "name": "stdout",
          "output_type": "stream",
          "text": [
            "The number is 42\n",
            "The third element of the array is 3\n",
            "The value of d is 3.14\n",
            "The value of b is true\n",
            "The value of c is a\n",
            "The substring is world\n",
            "The random number is 80\n",
            "The sorted array is [1, 2, 3, 4, 5]\n"
          ]
        }
      ],
      "source": [
        "import java.util.Arrays;\n",
        "import java.util.Random;\n",
        "\n",
        "public class WrapperClassesExample {\n",
        "    public static void main(String[] args) {\n",
        "        // int\n",
        "        Integer num = Integer.valueOf(42);\n",
        "        Integer[] arr = {Integer.valueOf(1), Integer.valueOf(2), Integer.valueOf(3), Integer.valueOf(4), Integer.valueOf(5)};\n",
        "        System.out.println(\"The number is \" + num);\n",
        "        System.out.println(\"The third element of the array is \" + arr[2]);\n",
        "        \n",
        "        // double\n",
        "        Double d = Double.valueOf(3.14);\n",
        "        System.out.println(\"The value of d is \" + d);\n",
        "        \n",
        "        // boolean\n",
        "        Boolean b = Boolean.valueOf(true);\n",
        "        System.out.println(\"The value of b is \" + b);\n",
        "        \n",
        "        // char\n",
        "        Character c = Character.valueOf('a');\n",
        "        System.out.println(\"The value of c is \" + c);\n",
        "        \n",
        "        // Using substring method on String\n",
        "        String str = \"Hello, world!\";\n",
        "        String substr = str.substring(7, 12);\n",
        "        System.out.println(\"The substring is \" + substr);\n",
        "        \n",
        "        // Generating random numbers\n",
        "        Random rand = new Random();\n",
        "        Integer randNum = Integer.valueOf(rand.nextInt(100));\n",
        "        System.out.println(\"The random number is \" + randNum);\n",
        "        \n",
        "        // Sorting an array\n",
        "        Arrays.sort(arr);\n",
        "        System.out.println(\"The sorted array is \" + Arrays.toString(arr));\n",
        "    }\n",
        "}\n",
        "\n",
        "WrapperClassesExample.main(null);"
      ]
    },
    {
      "attachments": {},
      "cell_type": "markdown",
      "id": "0c903ded",
      "metadata": {},
      "source": [
        "## Teacher Code Exploration:\n",
        "\n",
        "#### What are Methods and Control Structures?\n",
        "\n",
        "A method, also known as a function, is a block of code that performs a specific task. Methods allow programmers to break down complex problems into smaller, more manageable pieces of code. Methods can be called from other parts of a program, allowing for code reuse and modularity.\n",
        "\n",
        "Control structures are statements that determine the flow of execution in a program. They allow programmers to create conditional statements, loops, and other constructs that can be used to control the order in which instructions are executed. Common control structures include if-else statements, for loops, while loops, and switch statements.\n",
        "\n",
        "#### Explore Menu Code:\n"
      ]
    },
    {
      "attachments": {},
      "cell_type": "markdown",
      "id": "61031241",
      "metadata": {},
      "source": [
        "## AP Classroom FRQ - Methods and Control Structures\n",
        "\n",
        "> Chat GPT Generated (Somewhat PBL Related)\n",
        "\n",
        "Suppose you are designing a program that will calculate the average temperature of a city over a given period of time. Write a Java program with a method called `averageTemp` that takes two parameters: an array of temperatures and an integer representing the number of days. The method should use a loop to iterate over the array of temperatures and calculate the average temperature of the city over the given period of time.\n",
        "\n",
        "Your program should also include a `main` method that creates an array of temperatures and calls the `averageTemp` method to calculate the average temperature. Finally, your program should print the average temperature to the console.\n",
        "\n",
        "Note: You can assume that the array of temperatures contains only valid temperatures in Celsius, and that the number of days is greater than 0.\n",
        "\n",
        "### Completed and Running Code:"
      ]
    },
    {
      "cell_type": "code",
      "execution_count": 10,
      "id": "b193b5cc",
      "metadata": {
        "vscode": {
          "languageId": "java"
        }
      },
      "outputs": [
        {
          "name": "stdout",
          "output_type": "stream",
          "text": [
            "The average temperature over 6 days is 23.866666666666664 degrees Celsius.\n"
          ]
        }
      ],
      "source": [
        "public class TemperatureCalculator {\n",
        "    public static void main(String[] args) {\n",
        "        // create an array of temperatures\n",
        "        double[] temperatures = {23.6, 24.3, 22.9, 25.1, 26.8, 20.5};\n",
        "        \n",
        "        // call the averageTemp method to calculate the average temperature\n",
        "        double averageTemperature = averageTemp(temperatures, temperatures.length);\n",
        "        \n",
        "        // print the average temperature to the console\n",
        "        System.out.println(\"The average temperature over \" + temperatures.length + \" days is \" + averageTemperature + \" degrees Celsius.\");\n",
        "    }\n",
        "    \n",
        "    public static double averageTemp(double[] temperatures, int numDays) {\n",
        "        double sum = 0.0;\n",
        "        \n",
        "        // iterate over the array of temperatures and calculate the sum of temperatures\n",
        "        for (int i = 0; i < numDays; i++) {\n",
        "            sum += temperatures[i];\n",
        "        }\n",
        "        \n",
        "        // calculate the average temperature\n",
        "        double averageTemperature = sum / numDays;\n",
        "        \n",
        "        return averageTemperature;\n",
        "    }\n",
        "}\n",
        "\n",
        "TemperatureCalculator.main(null);"
      ]
    },
    {
      "attachments": {},
      "cell_type": "markdown",
      "id": "04d87ff5",
      "metadata": {},
      "source": [
        "### FRQ Description:\n",
        "\n",
        "- Methods:\n",
        "    - The averageTemp method takes two parameters: an array of temperatures and an integer representing the number of days.\n",
        "    - The method uses a for loop to iterate over the array of temperatures and calculate the sum of temperatures.\n",
        "    - The method then calculates the average temperature and returns it as a double.\n",
        "    - The main method calls the averageTemp method and prints the average temperature to the console.\n",
        "- Control Structures:\n",
        "    - The for loop is used to iterate over the array of temperatures in the averageTemp method.\n",
        "    - The if statement could be used to check for invalid inputs (such as a negative number of days).\n",
        "- Data Types:\n",
        "     - The double data type is used to represent temperatures and the average temperature.\n",
        "     - The int data type is used to represent the number of days.\n",
        "    - The double[] data type is used to represent the array of temperatures.\n",
        "\n",
        "The program uses basic methods and control structures to solve a simple problem of calculating the average temperature of a city over a period of time. The data types used are appropriate for representing temperatures and other numerical values, and the program could be further extended to handle more complex temperature data or include additional features."
      ]
    },
    {
      "cell_type": "markdown",
      "id": "82c37eaa",
      "metadata": {},
      "source": []
    }
  ],
  "metadata": {
    "kernelspec": {
      "display_name": "Java",
      "language": "java",
      "name": "java"
    },
    "language_info": {
      "codemirror_mode": "java",
      "file_extension": ".jshell",
      "mimetype": "text/x-java-source",
      "name": "Java",
      "pygments_lexer": "java",
      "version": "17.0.4.1+1-LTS-2"
    }
  },
  "nbformat": 4,
  "nbformat_minor": 5
}
